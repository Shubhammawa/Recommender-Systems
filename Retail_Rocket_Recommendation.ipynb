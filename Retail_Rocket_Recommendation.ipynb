{
  "nbformat": 4,
  "nbformat_minor": 0,
  "metadata": {
    "colab": {
      "name": "Retail Rocket Recommendation",
      "provenance": [],
      "collapsed_sections": [],
      "machine_shape": "hm",
      "include_colab_link": true
    },
    "kernelspec": {
      "name": "python3",
      "display_name": "Python 3"
    }
  },
  "cells": [
    {
      "cell_type": "markdown",
      "metadata": {
        "id": "view-in-github",
        "colab_type": "text"
      },
      "source": [
        "<a href=\"https://colab.research.google.com/github/Shubhammawa/PredictivEye-Internship/blob/master/Retail_Rocket_Recommendation.ipynb\" target=\"_parent\"><img src=\"https://colab.research.google.com/assets/colab-badge.svg\" alt=\"Open In Colab\"/></a>"
      ]
    },
    {
      "cell_type": "markdown",
      "metadata": {
        "id": "uK51XMeHTZac",
        "colab_type": "text"
      },
      "source": [
        "Importing necessary libraries"
      ]
    },
    {
      "cell_type": "code",
      "metadata": {
        "id": "sRaoZcaLUvHl",
        "colab_type": "code",
        "colab": {}
      },
      "source": [
        "import numpy as np\n",
        "import pandas as pd\n",
        "import time\n",
        "import datetime\n",
        "\n",
        "%matplotlib inline\n",
        "import matplotlib.pyplot as plt \n",
        "import seaborn as sns\n",
        "\n",
        "from sklearn.model_selection import train_test_split\n",
        "from sklearn import metrics"
      ],
      "execution_count": 0,
      "outputs": []
    },
    {
      "cell_type": "code",
      "metadata": {
        "id": "P_ihE-l5XFKi",
        "colab_type": "code",
        "outputId": "3a5912d1-81f4-44b1-ca3a-323c93834c18",
        "colab": {
          "base_uri": "https://localhost:8080/",
          "height": 34
        }
      },
      "source": [
        "from google.colab import drive\n",
        "drive.mount('/content/drive')"
      ],
      "execution_count": 2,
      "outputs": [
        {
          "output_type": "stream",
          "text": [
            "Drive already mounted at /content/drive; to attempt to forcibly remount, call drive.mount(\"/content/drive\", force_remount=True).\n"
          ],
          "name": "stdout"
        }
      ]
    },
    {
      "cell_type": "code",
      "metadata": {
        "id": "VI1apN1r_FyL",
        "colab_type": "code",
        "outputId": "1f8ed06f-ea2c-4b88-87db-dc0ef44505db",
        "colab": {
          "base_uri": "https://localhost:8080/",
          "height": 52
        }
      },
      "source": [
        "!unzip \"/content/drive/My Drive/ecommerce-dataset.zip\""
      ],
      "execution_count": 0,
      "outputs": [
        {
          "output_type": "stream",
          "text": [
            "Archive:  /content/drive/My Drive/ecommerce-dataset.zip\n",
            "replace category_tree.csv? [y]es, [n]o, [A]ll, [N]one, [r]ename: "
          ],
          "name": "stdout"
        }
      ]
    },
    {
      "cell_type": "code",
      "metadata": {
        "id": "14uLESOlVrDW",
        "colab_type": "code",
        "colab": {}
      },
      "source": [
        "events_df = pd.read_csv('events.csv')\n",
        "category_tree_df = pd.read_csv('category_tree.csv')\n",
        "item_properties_1_df = pd.read_csv('item_properties_part1.csv')\n",
        "item_properties_2_df = pd.read_csv('item_properties_part2.csv')\n",
        "items_df = pd.concat([item_properties_1_df,item_properties_2_df])"
      ],
      "execution_count": 0,
      "outputs": []
    },
    {
      "cell_type": "code",
      "metadata": {
        "id": "yIOfB__MCMvH",
        "colab_type": "code",
        "outputId": "924be87b-603b-45ef-fc11-09f934022178",
        "colab": {
          "base_uri": "https://localhost:8080/",
          "height": 206
        }
      },
      "source": [
        "times=[]\n",
        "for i in events_df['timestamp']:\n",
        "    times.append(datetime.datetime.fromtimestamp(i//1000.0))\n",
        "events_df['timestamp'] = times\n",
        "events_df.head()"
      ],
      "execution_count": 4,
      "outputs": [
        {
          "output_type": "execute_result",
          "data": {
            "text/html": [
              "<div>\n",
              "<style scoped>\n",
              "    .dataframe tbody tr th:only-of-type {\n",
              "        vertical-align: middle;\n",
              "    }\n",
              "\n",
              "    .dataframe tbody tr th {\n",
              "        vertical-align: top;\n",
              "    }\n",
              "\n",
              "    .dataframe thead th {\n",
              "        text-align: right;\n",
              "    }\n",
              "</style>\n",
              "<table border=\"1\" class=\"dataframe\">\n",
              "  <thead>\n",
              "    <tr style=\"text-align: right;\">\n",
              "      <th></th>\n",
              "      <th>timestamp</th>\n",
              "      <th>visitorid</th>\n",
              "      <th>event</th>\n",
              "      <th>itemid</th>\n",
              "      <th>transactionid</th>\n",
              "    </tr>\n",
              "  </thead>\n",
              "  <tbody>\n",
              "    <tr>\n",
              "      <th>0</th>\n",
              "      <td>2015-06-02 05:02:12</td>\n",
              "      <td>257597</td>\n",
              "      <td>view</td>\n",
              "      <td>355908</td>\n",
              "      <td>NaN</td>\n",
              "    </tr>\n",
              "    <tr>\n",
              "      <th>1</th>\n",
              "      <td>2015-06-02 05:50:14</td>\n",
              "      <td>992329</td>\n",
              "      <td>view</td>\n",
              "      <td>248676</td>\n",
              "      <td>NaN</td>\n",
              "    </tr>\n",
              "    <tr>\n",
              "      <th>2</th>\n",
              "      <td>2015-06-02 05:13:19</td>\n",
              "      <td>111016</td>\n",
              "      <td>view</td>\n",
              "      <td>318965</td>\n",
              "      <td>NaN</td>\n",
              "    </tr>\n",
              "    <tr>\n",
              "      <th>3</th>\n",
              "      <td>2015-06-02 05:12:35</td>\n",
              "      <td>483717</td>\n",
              "      <td>view</td>\n",
              "      <td>253185</td>\n",
              "      <td>NaN</td>\n",
              "    </tr>\n",
              "    <tr>\n",
              "      <th>4</th>\n",
              "      <td>2015-06-02 05:02:17</td>\n",
              "      <td>951259</td>\n",
              "      <td>view</td>\n",
              "      <td>367447</td>\n",
              "      <td>NaN</td>\n",
              "    </tr>\n",
              "  </tbody>\n",
              "</table>\n",
              "</div>"
            ],
            "text/plain": [
              "            timestamp  visitorid event  itemid  transactionid\n",
              "0 2015-06-02 05:02:12     257597  view  355908            NaN\n",
              "1 2015-06-02 05:50:14     992329  view  248676            NaN\n",
              "2 2015-06-02 05:13:19     111016  view  318965            NaN\n",
              "3 2015-06-02 05:12:35     483717  view  253185            NaN\n",
              "4 2015-06-02 05:02:17     951259  view  367447            NaN"
            ]
          },
          "metadata": {
            "tags": []
          },
          "execution_count": 4
        }
      ]
    },
    {
      "cell_type": "code",
      "metadata": {
        "id": "JyFwCpTqBuF2",
        "colab_type": "code",
        "outputId": "8eec2dae-6b7d-48a4-deef-76d7fc4ac6ac",
        "colab": {
          "base_uri": "https://localhost:8080/",
          "height": 206
        }
      },
      "source": [
        "category_tree_df.head()"
      ],
      "execution_count": 0,
      "outputs": [
        {
          "output_type": "execute_result",
          "data": {
            "text/html": [
              "<div>\n",
              "<style scoped>\n",
              "    .dataframe tbody tr th:only-of-type {\n",
              "        vertical-align: middle;\n",
              "    }\n",
              "\n",
              "    .dataframe tbody tr th {\n",
              "        vertical-align: top;\n",
              "    }\n",
              "\n",
              "    .dataframe thead th {\n",
              "        text-align: right;\n",
              "    }\n",
              "</style>\n",
              "<table border=\"1\" class=\"dataframe\">\n",
              "  <thead>\n",
              "    <tr style=\"text-align: right;\">\n",
              "      <th></th>\n",
              "      <th>categoryid</th>\n",
              "      <th>parentid</th>\n",
              "    </tr>\n",
              "  </thead>\n",
              "  <tbody>\n",
              "    <tr>\n",
              "      <th>0</th>\n",
              "      <td>1016</td>\n",
              "      <td>213.0</td>\n",
              "    </tr>\n",
              "    <tr>\n",
              "      <th>1</th>\n",
              "      <td>809</td>\n",
              "      <td>169.0</td>\n",
              "    </tr>\n",
              "    <tr>\n",
              "      <th>2</th>\n",
              "      <td>570</td>\n",
              "      <td>9.0</td>\n",
              "    </tr>\n",
              "    <tr>\n",
              "      <th>3</th>\n",
              "      <td>1691</td>\n",
              "      <td>885.0</td>\n",
              "    </tr>\n",
              "    <tr>\n",
              "      <th>4</th>\n",
              "      <td>536</td>\n",
              "      <td>1691.0</td>\n",
              "    </tr>\n",
              "  </tbody>\n",
              "</table>\n",
              "</div>"
            ],
            "text/plain": [
              "   categoryid  parentid\n",
              "0        1016     213.0\n",
              "1         809     169.0\n",
              "2         570       9.0\n",
              "3        1691     885.0\n",
              "4         536    1691.0"
            ]
          },
          "metadata": {
            "tags": []
          },
          "execution_count": 7
        }
      ]
    },
    {
      "cell_type": "code",
      "metadata": {
        "id": "qQul8TQ1KGlf",
        "colab_type": "code",
        "outputId": "4f1d4aa9-8222-4e6d-c0b6-249b6970042c",
        "colab": {
          "base_uri": "https://localhost:8080/",
          "height": 206
        }
      },
      "source": [
        "times=[]\n",
        "for i in items_df['timestamp']:\n",
        "    times.append(datetime.datetime.fromtimestamp(i//1000.0))\n",
        "items_df['timestamp'] = times\n",
        "items_df.head()"
      ],
      "execution_count": 0,
      "outputs": [
        {
          "output_type": "execute_result",
          "data": {
            "text/html": [
              "<div>\n",
              "<style scoped>\n",
              "    .dataframe tbody tr th:only-of-type {\n",
              "        vertical-align: middle;\n",
              "    }\n",
              "\n",
              "    .dataframe tbody tr th {\n",
              "        vertical-align: top;\n",
              "    }\n",
              "\n",
              "    .dataframe thead th {\n",
              "        text-align: right;\n",
              "    }\n",
              "</style>\n",
              "<table border=\"1\" class=\"dataframe\">\n",
              "  <thead>\n",
              "    <tr style=\"text-align: right;\">\n",
              "      <th></th>\n",
              "      <th>timestamp</th>\n",
              "      <th>itemid</th>\n",
              "      <th>property</th>\n",
              "      <th>value</th>\n",
              "    </tr>\n",
              "  </thead>\n",
              "  <tbody>\n",
              "    <tr>\n",
              "      <th>0</th>\n",
              "      <td>2015-06-28 03:00:00</td>\n",
              "      <td>460429</td>\n",
              "      <td>categoryid</td>\n",
              "      <td>1338</td>\n",
              "    </tr>\n",
              "    <tr>\n",
              "      <th>1</th>\n",
              "      <td>2015-09-06 03:00:00</td>\n",
              "      <td>206783</td>\n",
              "      <td>888</td>\n",
              "      <td>1116713 960601 n277.200</td>\n",
              "    </tr>\n",
              "    <tr>\n",
              "      <th>2</th>\n",
              "      <td>2015-08-09 03:00:00</td>\n",
              "      <td>395014</td>\n",
              "      <td>400</td>\n",
              "      <td>n552.000 639502 n720.000 424566</td>\n",
              "    </tr>\n",
              "    <tr>\n",
              "      <th>3</th>\n",
              "      <td>2015-05-10 03:00:00</td>\n",
              "      <td>59481</td>\n",
              "      <td>790</td>\n",
              "      <td>n15360.000</td>\n",
              "    </tr>\n",
              "    <tr>\n",
              "      <th>4</th>\n",
              "      <td>2015-05-17 03:00:00</td>\n",
              "      <td>156781</td>\n",
              "      <td>917</td>\n",
              "      <td>828513</td>\n",
              "    </tr>\n",
              "  </tbody>\n",
              "</table>\n",
              "</div>"
            ],
            "text/plain": [
              "            timestamp  itemid    property                            value\n",
              "0 2015-06-28 03:00:00  460429  categoryid                             1338\n",
              "1 2015-09-06 03:00:00  206783         888          1116713 960601 n277.200\n",
              "2 2015-08-09 03:00:00  395014         400  n552.000 639502 n720.000 424566\n",
              "3 2015-05-10 03:00:00   59481         790                       n15360.000\n",
              "4 2015-05-17 03:00:00  156781         917                           828513"
            ]
          },
          "metadata": {
            "tags": []
          },
          "execution_count": 8
        }
      ]
    },
    {
      "cell_type": "code",
      "metadata": {
        "id": "d1iKU1b3Bvgf",
        "colab_type": "code",
        "outputId": "d04091c0-7d80-41de-b588-a1bb92a93495",
        "colab": {
          "base_uri": "https://localhost:8080/",
          "height": 333
        }
      },
      "source": [
        "events_count = events_df[\"event\"].value_counts()\n",
        "fig, axs = plt.subplots(ncols = 2,figsize = (8, 4))\n",
        "#plt.title('Views/Add to Cart/Transactions')\n",
        "sns.barplot(events_count.index, events_count.values, ax = axs[0])\n",
        "\n",
        "events_count=events_df[\"event\"].value_counts()[1:]\n",
        "#plt.title('Actions Vs Count')\n",
        "g = sns.barplot(events_count.index, events_count.values, ax = axs[1])\n",
        "#g.set_yscale('log')\n",
        "events_count = events_df[\"event\"].value_counts()[1:]\n",
        "plt.title('Add-to-cart V/s Transaction')\n",
        "sns.barplot(events_count.index, events_count.values)\n",
        "\n",
        "print(events_count)"
      ],
      "execution_count": 0,
      "outputs": [
        {
          "output_type": "stream",
          "text": [
            "addtocart      69332\n",
            "transaction    22457\n",
            "Name: event, dtype: int64\n"
          ],
          "name": "stdout"
        },
        {
          "output_type": "display_data",
          "data": {
            "image/png": "[encoded data removed]",
            "text/plain": [
              "<Figure size 576x288 with 2 Axes>"
            ]
          },
          "metadata": {
            "tags": []
          }
        }
      ]
    },
    {
      "cell_type": "code",
      "metadata": {
        "id": "DDU8fM37VvE8",
        "colab_type": "code",
        "outputId": "823a103b-a3aa-454c-f09c-353f85055317",
        "colab": {
          "base_uri": "https://localhost:8080/",
          "height": 52
        }
      },
      "source": [
        "# All unique visitor ids\n",
        "all_customers = events_df.visitorid.unique()\n",
        "# Total visits\n",
        "total_visits = events_df.visitorid.size\n",
        "print(\"Total number of visits: \",total_visits)\n",
        "print(\"Number of unique customers: \",all_customers.size)"
      ],
      "execution_count": 0,
      "outputs": [
        {
          "output_type": "stream",
          "text": [
            "Total number of visits:  2756101\n",
            "Number of unique customers:  1407580\n"
          ],
          "name": "stdout"
        }
      ]
    },
    {
      "cell_type": "code",
      "metadata": {
        "id": "zO0Z_ICYo0Qa",
        "colab_type": "code",
        "outputId": "d96388da-7d59-40fd-c19d-de134ff63d89",
        "colab": {
          "base_uri": "https://localhost:8080/",
          "height": 34
        }
      },
      "source": [
        "# All unique items\n",
        "all_items = items_df.itemid.unique()\n",
        "print(\"Total unique items: \",all_items.size)"
      ],
      "execution_count": 0,
      "outputs": [
        {
          "output_type": "stream",
          "text": [
            "Total unique items:  417053\n"
          ],
          "name": "stdout"
        }
      ]
    },
    {
      "cell_type": "code",
      "metadata": {
        "id": "mpznxsI7pIFy",
        "colab_type": "code",
        "colab": {}
      },
      "source": [
        "def user_history(visitor_id):\n",
        "    user_history = events_df[events_df.visitorid == visitor_id].sort_values('timestamp')\n",
        "    return user_history"
      ],
      "execution_count": 0,
      "outputs": []
    },
    {
      "cell_type": "code",
      "metadata": {
        "id": "OmaXa-ImNEQv",
        "colab_type": "code",
        "outputId": "0462092e-dd6d-4111-a1f9-64967d1430cf",
        "colab": {
          "base_uri": "https://localhost:8080/",
          "height": 80
        }
      },
      "source": [
        "user_history(102013)"
      ],
      "execution_count": 0,
      "outputs": [
        {
          "output_type": "execute_result",
          "data": {
            "text/html": [
              "<div>\n",
              "<style scoped>\n",
              "    .dataframe tbody tr th:only-of-type {\n",
              "        vertical-align: middle;\n",
              "    }\n",
              "\n",
              "    .dataframe tbody tr th {\n",
              "        vertical-align: top;\n",
              "    }\n",
              "\n",
              "    .dataframe thead th {\n",
              "        text-align: right;\n",
              "    }\n",
              "</style>\n",
              "<table border=\"1\" class=\"dataframe\">\n",
              "  <thead>\n",
              "    <tr style=\"text-align: right;\">\n",
              "      <th></th>\n",
              "      <th>timestamp</th>\n",
              "      <th>visitorid</th>\n",
              "      <th>event</th>\n",
              "      <th>itemid</th>\n",
              "      <th>transactionid</th>\n",
              "    </tr>\n",
              "  </thead>\n",
              "  <tbody>\n",
              "    <tr>\n",
              "      <th>1281305</th>\n",
              "      <td>2015-09-08 02:57:05</td>\n",
              "      <td>102013</td>\n",
              "      <td>view</td>\n",
              "      <td>332816</td>\n",
              "      <td>NaN</td>\n",
              "    </tr>\n",
              "  </tbody>\n",
              "</table>\n",
              "</div>"
            ],
            "text/plain": [
              "                  timestamp  visitorid event  itemid  transactionid\n",
              "1281305 2015-09-08 02:57:05     102013  view  332816            NaN"
            ]
          },
          "metadata": {
            "tags": []
          },
          "execution_count": 13
        }
      ]
    },
    {
      "cell_type": "code",
      "metadata": {
        "id": "ro9Lhvo2NY5B",
        "colab_type": "code",
        "outputId": "8f38c9a7-86c9-43ad-a138-79489ab92ef7",
        "colab": {
          "base_uri": "https://localhost:8080/",
          "height": 331
        }
      },
      "source": [
        "user_history(102019)"
      ],
      "execution_count": 0,
      "outputs": [
        {
          "output_type": "execute_result",
          "data": {
            "text/html": [
              "<div>\n",
              "<style scoped>\n",
              "    .dataframe tbody tr th:only-of-type {\n",
              "        vertical-align: middle;\n",
              "    }\n",
              "\n",
              "    .dataframe tbody tr th {\n",
              "        vertical-align: top;\n",
              "    }\n",
              "\n",
              "    .dataframe thead th {\n",
              "        text-align: right;\n",
              "    }\n",
              "</style>\n",
              "<table border=\"1\" class=\"dataframe\">\n",
              "  <thead>\n",
              "    <tr style=\"text-align: right;\">\n",
              "      <th></th>\n",
              "      <th>timestamp</th>\n",
              "      <th>visitorid</th>\n",
              "      <th>event</th>\n",
              "      <th>itemid</th>\n",
              "      <th>transactionid</th>\n",
              "    </tr>\n",
              "  </thead>\n",
              "  <tbody>\n",
              "    <tr>\n",
              "      <th>19690</th>\n",
              "      <td>2015-06-01 16:21:54</td>\n",
              "      <td>102019</td>\n",
              "      <td>view</td>\n",
              "      <td>49521</td>\n",
              "      <td>NaN</td>\n",
              "    </tr>\n",
              "    <tr>\n",
              "      <th>19501</th>\n",
              "      <td>2015-06-01 16:23:21</td>\n",
              "      <td>102019</td>\n",
              "      <td>addtocart</td>\n",
              "      <td>49521</td>\n",
              "      <td>NaN</td>\n",
              "    </tr>\n",
              "    <tr>\n",
              "      <th>14842</th>\n",
              "      <td>2015-06-01 16:23:32</td>\n",
              "      <td>102019</td>\n",
              "      <td>view</td>\n",
              "      <td>150318</td>\n",
              "      <td>NaN</td>\n",
              "    </tr>\n",
              "    <tr>\n",
              "      <th>19573</th>\n",
              "      <td>2015-06-01 16:24:31</td>\n",
              "      <td>102019</td>\n",
              "      <td>view</td>\n",
              "      <td>49521</td>\n",
              "      <td>NaN</td>\n",
              "    </tr>\n",
              "    <tr>\n",
              "      <th>8701</th>\n",
              "      <td>2015-06-01 16:24:54</td>\n",
              "      <td>102019</td>\n",
              "      <td>view</td>\n",
              "      <td>49521</td>\n",
              "      <td>NaN</td>\n",
              "    </tr>\n",
              "    <tr>\n",
              "      <th>19708</th>\n",
              "      <td>2015-06-01 16:25:45</td>\n",
              "      <td>102019</td>\n",
              "      <td>view</td>\n",
              "      <td>150318</td>\n",
              "      <td>NaN</td>\n",
              "    </tr>\n",
              "    <tr>\n",
              "      <th>8740</th>\n",
              "      <td>2015-06-01 16:27:22</td>\n",
              "      <td>102019</td>\n",
              "      <td>view</td>\n",
              "      <td>49521</td>\n",
              "      <td>NaN</td>\n",
              "    </tr>\n",
              "    <tr>\n",
              "      <th>814</th>\n",
              "      <td>2015-06-01 16:38:56</td>\n",
              "      <td>102019</td>\n",
              "      <td>transaction</td>\n",
              "      <td>150318</td>\n",
              "      <td>13556.0</td>\n",
              "    </tr>\n",
              "    <tr>\n",
              "      <th>19724</th>\n",
              "      <td>2015-06-01 16:38:56</td>\n",
              "      <td>102019</td>\n",
              "      <td>transaction</td>\n",
              "      <td>49521</td>\n",
              "      <td>13556.0</td>\n",
              "    </tr>\n",
              "  </tbody>\n",
              "</table>\n",
              "</div>"
            ],
            "text/plain": [
              "                timestamp  visitorid        event  itemid  transactionid\n",
              "19690 2015-06-01 16:21:54     102019         view   49521            NaN\n",
              "19501 2015-06-01 16:23:21     102019    addtocart   49521            NaN\n",
              "14842 2015-06-01 16:23:32     102019         view  150318            NaN\n",
              "19573 2015-06-01 16:24:31     102019         view   49521            NaN\n",
              "8701  2015-06-01 16:24:54     102019         view   49521            NaN\n",
              "19708 2015-06-01 16:25:45     102019         view  150318            NaN\n",
              "8740  2015-06-01 16:27:22     102019         view   49521            NaN\n",
              "814   2015-06-01 16:38:56     102019  transaction  150318        13556.0\n",
              "19724 2015-06-01 16:38:56     102019  transaction   49521        13556.0"
            ]
          },
          "metadata": {
            "tags": []
          },
          "execution_count": 14
        }
      ]
    },
    {
      "cell_type": "code",
      "metadata": {
        "id": "58P9d7V9pIU0",
        "colab_type": "code",
        "outputId": "0c9d84a7-1eaa-4181-e02c-c04571637768",
        "colab": {
          "base_uri": "https://localhost:8080/",
          "height": 34
        }
      },
      "source": [
        "# All the customers who made a purchase\n",
        "customer_purchased = events_df[events_df.transactionid.notnull()].visitorid.unique()\n",
        "customer_purchased.size"
      ],
      "execution_count": 0,
      "outputs": [
        {
          "output_type": "execute_result",
          "data": {
            "text/plain": [
              "11719"
            ]
          },
          "metadata": {
            "tags": []
          },
          "execution_count": 15
        }
      ]
    },
    {
      "cell_type": "code",
      "metadata": {
        "id": "JyhCnNokpUGK",
        "colab_type": "code",
        "colab": {}
      },
      "source": [
        "purchased_items = []\n",
        "    \n",
        "# Create another list that contains all their purchases \n",
        "for customer in customer_purchased:\n",
        "\n",
        "    #Generate a Pandas series type object containing all the visitor's purchases and put them in the list\n",
        "    purchased_items.append(list(events_df.loc[(events_df.visitorid == customer) & (events_df.transactionid.notnull())].itemid.values))"
      ],
      "execution_count": 0,
      "outputs": []
    },
    {
      "cell_type": "code",
      "metadata": {
        "id": "9m7Bc2vDpUbJ",
        "colab_type": "code",
        "colab": {}
      },
      "source": [
        "# Function that would show items that were bought together\n",
        "def recommend_bought_together(item_id, purchased_items):\n",
        "    \n",
        "    # More efficient implementation required\n",
        "    recommender_list = []\n",
        "    for x in purchased_items:\n",
        "        if item_id in x:\n",
        "            recommender_list += x\n",
        "    \n",
        "    # Merge recommender list and remove the item id\n",
        "    recommender_list = list(set(recommender_list) - set([item_id]))\n",
        "    \n",
        "    return recommender_list"
      ],
      "execution_count": 0,
      "outputs": []
    },
    {
      "cell_type": "code",
      "metadata": {
        "id": "myV2KZkwpvda",
        "colab_type": "code",
        "outputId": "50ccf646-0822-437c-fdb5-57fedebffb12",
        "colab": {
          "base_uri": "https://localhost:8080/",
          "height": 34
        }
      },
      "source": [
        "recommend_bought_together(49521,purchased_items)"
      ],
      "execution_count": 0,
      "outputs": [
        {
          "output_type": "execute_result",
          "data": {
            "text/plain": [
              "[150318]"
            ]
          },
          "metadata": {
            "tags": []
          },
          "execution_count": 18
        }
      ]
    },
    {
      "cell_type": "code",
      "metadata": {
        "id": "jvSol_x_pww8",
        "colab_type": "code",
        "outputId": "c6e6c04b-82aa-4b9b-a6a9-858861dd5065",
        "colab": {
          "base_uri": "https://localhost:8080/",
          "height": 34
        }
      },
      "source": [
        "recommend_bought_together(302422, purchased_items)"
      ],
      "execution_count": 0,
      "outputs": [
        {
          "output_type": "execute_result",
          "data": {
            "text/plain": [
              "[105792, 200793, 12836, 80582, 380775, 15335, 400969, 25353, 237753, 317178]"
            ]
          },
          "metadata": {
            "tags": []
          },
          "execution_count": 20
        }
      ]
    },
    {
      "cell_type": "code",
      "metadata": {
        "id": "I4DHEyYvUcJO",
        "colab_type": "code",
        "outputId": "46c4f501-4397-40e5-f3ee-4e57d8410e25",
        "colab": {
          "base_uri": "https://localhost:8080/",
          "height": 104
        }
      },
      "source": [
        "# Grouping itemid by its event type and creating list of each of them\n",
        "grouped = events_df.groupby('event')['itemid'].apply(list)\n",
        "grouped"
      ],
      "execution_count": 0,
      "outputs": [
        {
          "output_type": "execute_result",
          "data": {
            "text/plain": [
              "event\n",
              "addtocart      [5206, 10572, 255275, 356475, 312728, 63312, 1...\n",
              "transaction    [356475, 15335, 81345, 150318, 310791, 54058, ...\n",
              "view           [355908, 248676, 318965, 253185, 367447, 22556...\n",
              "Name: itemid, dtype: object"
            ]
          },
          "metadata": {
            "tags": []
          },
          "execution_count": 21
        }
      ]
    },
    {
      "cell_type": "code",
      "metadata": {
        "id": "c2d_ndhTpw_7",
        "colab_type": "code",
        "colab": {}
      },
      "source": [
        "# Function to find most viewed, added to cart and purchased items\n",
        "import operator\n",
        "def product_stats(grouped=grouped, event='view'):\n",
        "    events = grouped[event]\n",
        "    # creating dictionary for key value pair \n",
        "    count_event ={}\n",
        "    events = np.array(events[:])\n",
        "    unique, counts = np.unique(events, return_counts=True)\n",
        "    # converting unique and counts as a dictionay with key as unique and value as counts\n",
        "    count_event = dict(zip(unique, counts))\n",
        "    #sorting the dictionary\n",
        "    sort_count_event = sorted(count_event.items(), key = operator.itemgetter(1), reverse = True)\n",
        "    # keeping number of unique views on X-axis\n",
        "    x = [i[0] for i in sort_count_event[:7]]\n",
        "    # keeping count number of views on Y-axis\n",
        "    y = [i[1] for i in sort_count_event[:7]]\n",
        "    # Print top 5 most-viewed items\n",
        "    print(\"Top 5 products in \" + str(event) + \" category: \",x[:5])\n",
        "    sns.barplot(x, y, order=x, palette=\"rocket\")"
      ],
      "execution_count": 0,
      "outputs": []
    },
    {
      "cell_type": "code",
      "metadata": {
        "id": "QI3xAHbDp_0d",
        "colab_type": "code",
        "outputId": "5b497666-49a9-4370-fa26-9ef3e2ab516f",
        "colab": {
          "base_uri": "https://localhost:8080/",
          "height": 282
        }
      },
      "source": [
        "# Call function to see product stats\n",
        "# events = 'view', 'addtocart', 'transaction'\n",
        "product_stats(event='addtocart')"
      ],
      "execution_count": 0,
      "outputs": [
        {
          "output_type": "stream",
          "text": [
            "Top 5 products in addtocart category:  [461686, 312728, 409804, 320130, 29196]\n"
          ],
          "name": "stdout"
        },
        {
          "output_type": "display_data",
          "data": {
            "image/png": "[encoded data removed]",
            "text/plain": [
              "<Figure size 432x288 with 1 Axes>"
            ]
          },
          "metadata": {
            "tags": []
          }
        }
      ]
    },
    {
      "cell_type": "code",
      "metadata": {
        "id": "wEOWWC0HqCOO",
        "colab_type": "code",
        "outputId": "65d200c0-4495-432c-e5d4-89bda57855dc",
        "colab": {
          "base_uri": "https://localhost:8080/",
          "height": 206
        }
      },
      "source": [
        "events_df.head()"
      ],
      "execution_count": 0,
      "outputs": [
        {
          "output_type": "execute_result",
          "data": {
            "text/html": [
              "<div>\n",
              "<style scoped>\n",
              "    .dataframe tbody tr th:only-of-type {\n",
              "        vertical-align: middle;\n",
              "    }\n",
              "\n",
              "    .dataframe tbody tr th {\n",
              "        vertical-align: top;\n",
              "    }\n",
              "\n",
              "    .dataframe thead th {\n",
              "        text-align: right;\n",
              "    }\n",
              "</style>\n",
              "<table border=\"1\" class=\"dataframe\">\n",
              "  <thead>\n",
              "    <tr style=\"text-align: right;\">\n",
              "      <th></th>\n",
              "      <th>timestamp</th>\n",
              "      <th>visitorid</th>\n",
              "      <th>event</th>\n",
              "      <th>itemid</th>\n",
              "      <th>transactionid</th>\n",
              "    </tr>\n",
              "  </thead>\n",
              "  <tbody>\n",
              "    <tr>\n",
              "      <th>0</th>\n",
              "      <td>2015-06-02 05:02:12</td>\n",
              "      <td>257597</td>\n",
              "      <td>view</td>\n",
              "      <td>355908</td>\n",
              "      <td>NaN</td>\n",
              "    </tr>\n",
              "    <tr>\n",
              "      <th>1</th>\n",
              "      <td>2015-06-02 05:50:14</td>\n",
              "      <td>992329</td>\n",
              "      <td>view</td>\n",
              "      <td>248676</td>\n",
              "      <td>NaN</td>\n",
              "    </tr>\n",
              "    <tr>\n",
              "      <th>2</th>\n",
              "      <td>2015-06-02 05:13:19</td>\n",
              "      <td>111016</td>\n",
              "      <td>view</td>\n",
              "      <td>318965</td>\n",
              "      <td>NaN</td>\n",
              "    </tr>\n",
              "    <tr>\n",
              "      <th>3</th>\n",
              "      <td>2015-06-02 05:12:35</td>\n",
              "      <td>483717</td>\n",
              "      <td>view</td>\n",
              "      <td>253185</td>\n",
              "      <td>NaN</td>\n",
              "    </tr>\n",
              "    <tr>\n",
              "      <th>4</th>\n",
              "      <td>2015-06-02 05:02:17</td>\n",
              "      <td>951259</td>\n",
              "      <td>view</td>\n",
              "      <td>367447</td>\n",
              "      <td>NaN</td>\n",
              "    </tr>\n",
              "  </tbody>\n",
              "</table>\n",
              "</div>"
            ],
            "text/plain": [
              "            timestamp  visitorid event  itemid  transactionid\n",
              "0 2015-06-02 05:02:12     257597  view  355908            NaN\n",
              "1 2015-06-02 05:50:14     992329  view  248676            NaN\n",
              "2 2015-06-02 05:13:19     111016  view  318965            NaN\n",
              "3 2015-06-02 05:12:35     483717  view  253185            NaN\n",
              "4 2015-06-02 05:02:17     951259  view  367447            NaN"
            ]
          },
          "metadata": {
            "tags": []
          },
          "execution_count": 6
        }
      ]
    },
    {
      "cell_type": "code",
      "metadata": {
        "id": "9c8BKyGtqA7h",
        "colab_type": "code",
        "outputId": "b47b5b2c-7230-45c1-94c8-5a2fc446d79d",
        "colab": {
          "base_uri": "https://localhost:8080/",
          "height": 34
        }
      },
      "source": [
        "from sklearn import preprocessing\n",
        "le = preprocessing.LabelEncoder()\n",
        "le.fit(events_df['event'])"
      ],
      "execution_count": 5,
      "outputs": [
        {
          "output_type": "execute_result",
          "data": {
            "text/plain": [
              "LabelEncoder()"
            ]
          },
          "metadata": {
            "tags": []
          },
          "execution_count": 5
        }
      ]
    },
    {
      "cell_type": "code",
      "metadata": {
        "id": "H9uRjJKzo1Th",
        "colab_type": "code",
        "outputId": "c1a66e26-4a15-4f08-be6e-8838d4393a39",
        "colab": {
          "base_uri": "https://localhost:8080/",
          "height": 206
        }
      },
      "source": [
        "data = events_df\n",
        "data['event'] = le.transform(data['event'])\n",
        "data.head()"
      ],
      "execution_count": 6,
      "outputs": [
        {
          "output_type": "execute_result",
          "data": {
            "text/html": [
              "<div>\n",
              "<style scoped>\n",
              "    .dataframe tbody tr th:only-of-type {\n",
              "        vertical-align: middle;\n",
              "    }\n",
              "\n",
              "    .dataframe tbody tr th {\n",
              "        vertical-align: top;\n",
              "    }\n",
              "\n",
              "    .dataframe thead th {\n",
              "        text-align: right;\n",
              "    }\n",
              "</style>\n",
              "<table border=\"1\" class=\"dataframe\">\n",
              "  <thead>\n",
              "    <tr style=\"text-align: right;\">\n",
              "      <th></th>\n",
              "      <th>timestamp</th>\n",
              "      <th>visitorid</th>\n",
              "      <th>event</th>\n",
              "      <th>itemid</th>\n",
              "      <th>transactionid</th>\n",
              "    </tr>\n",
              "  </thead>\n",
              "  <tbody>\n",
              "    <tr>\n",
              "      <th>0</th>\n",
              "      <td>2015-06-02 05:02:12</td>\n",
              "      <td>257597</td>\n",
              "      <td>2</td>\n",
              "      <td>355908</td>\n",
              "      <td>NaN</td>\n",
              "    </tr>\n",
              "    <tr>\n",
              "      <th>1</th>\n",
              "      <td>2015-06-02 05:50:14</td>\n",
              "      <td>992329</td>\n",
              "      <td>2</td>\n",
              "      <td>248676</td>\n",
              "      <td>NaN</td>\n",
              "    </tr>\n",
              "    <tr>\n",
              "      <th>2</th>\n",
              "      <td>2015-06-02 05:13:19</td>\n",
              "      <td>111016</td>\n",
              "      <td>2</td>\n",
              "      <td>318965</td>\n",
              "      <td>NaN</td>\n",
              "    </tr>\n",
              "    <tr>\n",
              "      <th>3</th>\n",
              "      <td>2015-06-02 05:12:35</td>\n",
              "      <td>483717</td>\n",
              "      <td>2</td>\n",
              "      <td>253185</td>\n",
              "      <td>NaN</td>\n",
              "    </tr>\n",
              "    <tr>\n",
              "      <th>4</th>\n",
              "      <td>2015-06-02 05:02:17</td>\n",
              "      <td>951259</td>\n",
              "      <td>2</td>\n",
              "      <td>367447</td>\n",
              "      <td>NaN</td>\n",
              "    </tr>\n",
              "  </tbody>\n",
              "</table>\n",
              "</div>"
            ],
            "text/plain": [
              "            timestamp  visitorid  event  itemid  transactionid\n",
              "0 2015-06-02 05:02:12     257597      2  355908            NaN\n",
              "1 2015-06-02 05:50:14     992329      2  248676            NaN\n",
              "2 2015-06-02 05:13:19     111016      2  318965            NaN\n",
              "3 2015-06-02 05:12:35     483717      2  253185            NaN\n",
              "4 2015-06-02 05:02:17     951259      2  367447            NaN"
            ]
          },
          "metadata": {
            "tags": []
          },
          "execution_count": 6
        }
      ]
    },
    {
      "cell_type": "code",
      "metadata": {
        "id": "PlWuzjTXxlyi",
        "colab_type": "code",
        "colab": {}
      },
      "source": [
        "data.sort_values(by=['timestamp'], axis=0, inplace=True)"
      ],
      "execution_count": 0,
      "outputs": []
    },
    {
      "cell_type": "code",
      "metadata": {
        "id": "NepCwXdYhjjH",
        "colab_type": "code",
        "colab": {}
      },
      "source": [
        "#data.drop(columns='transactionid')"
      ],
      "execution_count": 0,
      "outputs": []
    },
    {
      "cell_type": "code",
      "metadata": {
        "id": "SxUE0wYbjlzT",
        "colab_type": "code",
        "colab": {}
      },
      "source": [
        "import torch\n",
        "import torch.nn as nn\n",
        "import torch.nn.functional as F\n",
        "import torch.optim as optim\n",
        "from torchvision import datasets, transforms\n",
        "from torch.utils.data import Dataset, DataLoader\n",
        "import numpy as np\n",
        "import pandas as pd\n",
        "from torch.autograd import Variable as V"
      ],
      "execution_count": 0,
      "outputs": []
    },
    {
      "cell_type": "code",
      "metadata": {
        "id": "8NG8nwTukAbC",
        "colab_type": "code",
        "colab": {}
      },
      "source": [
        "def proc_col(col, train_col=None):\n",
        "    \"\"\"Encodes a pandas column with continous ids. \n",
        "    \"\"\"\n",
        "    if train_col is not None:\n",
        "        uniq = train_col.unique()\n",
        "    else:\n",
        "        uniq = col.unique()\n",
        "    name2idx = {o: i for i, o in enumerate(uniq)}\n",
        "    return name2idx, np.array([name2idx.get(x, -1) for x in col]), len(uniq)"
      ],
      "execution_count": 0,
      "outputs": []
    },
    {
      "cell_type": "code",
      "metadata": {
        "id": "o6IahQHikD_L",
        "colab_type": "code",
        "colab": {}
      },
      "source": [
        "def encode_data(df, train=None):\n",
        "    \"\"\" Encodes rating data with continous user and item ids. \n",
        "    If train is provided, encodes df with the same encoding as train.\n",
        "    \"\"\"\n",
        "    df = df.copy()\n",
        "    for col_name in ['visitorid', 'itemid', 'year', 'day', 'month']:\n",
        "        train_col = None\n",
        "        if train is not None:\n",
        "            train_col = train[col_name]\n",
        "        _, col, _ = proc_col(df[col_name], train_col)\n",
        "        df[col_name] = col\n",
        "        df = df[df[col_name] >= 0]\n",
        "    return df"
      ],
      "execution_count": 0,
      "outputs": []
    },
    {
      "cell_type": "code",
      "metadata": {
        "id": "kgEnrM_AkFUH",
        "colab_type": "code",
        "outputId": "803f9848-6fd7-4049-984c-0131f947a177",
        "colab": {
          "base_uri": "https://localhost:8080/",
          "height": 206
        }
      },
      "source": [
        "data['year'] = data.timestamp.dt.year\n",
        "data['day'] = data.timestamp.dt.day\n",
        "data['month'] = data.timestamp.dt.month\n",
        "data = data.drop(['timestamp', 'transactionid'], axis = 1)\n",
        "data.head()\n",
        "#data.shape"
      ],
      "execution_count": 0,
      "outputs": [
        {
          "output_type": "execute_result",
          "data": {
            "text/html": [
              "<div>\n",
              "<style scoped>\n",
              "    .dataframe tbody tr th:only-of-type {\n",
              "        vertical-align: middle;\n",
              "    }\n",
              "\n",
              "    .dataframe tbody tr th {\n",
              "        vertical-align: top;\n",
              "    }\n",
              "\n",
              "    .dataframe thead th {\n",
              "        text-align: right;\n",
              "    }\n",
              "</style>\n",
              "<table border=\"1\" class=\"dataframe\">\n",
              "  <thead>\n",
              "    <tr style=\"text-align: right;\">\n",
              "      <th></th>\n",
              "      <th>visitorid</th>\n",
              "      <th>event</th>\n",
              "      <th>itemid</th>\n",
              "      <th>year</th>\n",
              "      <th>day</th>\n",
              "      <th>month</th>\n",
              "    </tr>\n",
              "  </thead>\n",
              "  <tbody>\n",
              "    <tr>\n",
              "      <th>1462974</th>\n",
              "      <td>693516</td>\n",
              "      <td>0</td>\n",
              "      <td>297662</td>\n",
              "      <td>2015</td>\n",
              "      <td>3</td>\n",
              "      <td>5</td>\n",
              "    </tr>\n",
              "    <tr>\n",
              "      <th>1464806</th>\n",
              "      <td>829044</td>\n",
              "      <td>2</td>\n",
              "      <td>60987</td>\n",
              "      <td>2015</td>\n",
              "      <td>3</td>\n",
              "      <td>5</td>\n",
              "    </tr>\n",
              "    <tr>\n",
              "      <th>1463000</th>\n",
              "      <td>652699</td>\n",
              "      <td>2</td>\n",
              "      <td>252860</td>\n",
              "      <td>2015</td>\n",
              "      <td>3</td>\n",
              "      <td>5</td>\n",
              "    </tr>\n",
              "    <tr>\n",
              "      <th>1465287</th>\n",
              "      <td>1125936</td>\n",
              "      <td>2</td>\n",
              "      <td>33661</td>\n",
              "      <td>2015</td>\n",
              "      <td>3</td>\n",
              "      <td>5</td>\n",
              "    </tr>\n",
              "    <tr>\n",
              "      <th>1462955</th>\n",
              "      <td>693516</td>\n",
              "      <td>2</td>\n",
              "      <td>297662</td>\n",
              "      <td>2015</td>\n",
              "      <td>3</td>\n",
              "      <td>5</td>\n",
              "    </tr>\n",
              "  </tbody>\n",
              "</table>\n",
              "</div>"
            ],
            "text/plain": [
              "         visitorid  event  itemid  year  day  month\n",
              "1462974     693516      0  297662  2015    3      5\n",
              "1464806     829044      2   60987  2015    3      5\n",
              "1463000     652699      2  252860  2015    3      5\n",
              "1465287    1125936      2   33661  2015    3      5\n",
              "1462955     693516      2  297662  2015    3      5"
            ]
          },
          "metadata": {
            "tags": []
          },
          "execution_count": 90
        }
      ]
    },
    {
      "cell_type": "code",
      "metadata": {
        "id": "2O9BsXoukFg0",
        "colab_type": "code",
        "outputId": "1af71f56-3333-4198-893a-6718b77328e3",
        "colab": {
          "base_uri": "https://localhost:8080/",
          "height": 34
        }
      },
      "source": [
        "df_encode = encode_data(data)\n",
        "\n",
        "print(df_encode.shape)"
      ],
      "execution_count": 0,
      "outputs": [
        {
          "output_type": "stream",
          "text": [
            "(2756101, 6)\n"
          ],
          "name": "stdout"
        }
      ]
    },
    {
      "cell_type": "code",
      "metadata": {
        "id": "9dSPRc0hpHY8",
        "colab_type": "code",
        "colab": {}
      },
      "source": [
        "k = round(len(df_encode) * 0.8)\n",
        "train = df_encode[:k]\n",
        "val = df_encode[k:]"
      ],
      "execution_count": 0,
      "outputs": []
    },
    {
      "cell_type": "code",
      "metadata": {
        "id": "hhaYwmQjpKFP",
        "colab_type": "code",
        "outputId": "e7839e67-9cf6-416f-9dc8-fcec203fe8ea",
        "colab": {
          "base_uri": "https://localhost:8080/",
          "height": 34
        }
      },
      "source": [
        "train.shape, val.shape"
      ],
      "execution_count": 0,
      "outputs": [
        {
          "output_type": "execute_result",
          "data": {
            "text/plain": [
              "((2204881, 6), (551220, 6))"
            ]
          },
          "metadata": {
            "tags": []
          },
          "execution_count": 101
        }
      ]
    },
    {
      "cell_type": "code",
      "metadata": {
        "id": "ontBpgoLjLUn",
        "colab_type": "code",
        "colab": {}
      },
      "source": [
        "class CustomDataset(Dataset):\n",
        "    def __init__(self, df):\n",
        "        self.u = torch.LongTensor(df.visitorid.values)\n",
        "        self.v = torch.LongTensor(df.itemid.values)\n",
        "        self.y = torch.LongTensor(df.event.values)\n",
        "\n",
        "    def __len__(self):\n",
        "        self.len = len(self.u)\n",
        "        return self.len\n",
        "\n",
        "    def __getitem__(self, index):\n",
        "        return self.u[index], self.v[index], self.y[index]"
      ],
      "execution_count": 0,
      "outputs": []
    },
    {
      "cell_type": "code",
      "metadata": {
        "id": "JADLvElSjfqu",
        "colab_type": "code",
        "outputId": "aaf4392d-de58-4056-9ca1-2ce8915cc1c7",
        "colab": {
          "base_uri": "https://localhost:8080/",
          "height": 34
        }
      },
      "source": [
        "num_users = len(df_encode.visitorid.unique())\n",
        "num_items = len(df_encode.itemid.unique())\n",
        "emb_size = 50\n",
        "num_users, num_items"
      ],
      "execution_count": 0,
      "outputs": [
        {
          "output_type": "execute_result",
          "data": {
            "text/plain": [
              "(1407580, 235061)"
            ]
          },
          "metadata": {
            "tags": []
          },
          "execution_count": 96
        }
      ]
    },
    {
      "cell_type": "code",
      "metadata": {
        "id": "1YSsDwb1jyMI",
        "colab_type": "code",
        "colab": {}
      },
      "source": [
        "class MF(nn.Module):\n",
        "    def __init__(self, num_user, num_item, emb_size):\n",
        "        super(MF, self).__init__()\n",
        "        self.user_emb = nn.Embedding(num_user, emb_size)\n",
        "        self.item_emb = nn.Embedding(num_item, emb_size)\n",
        "        self.user_emb.weight.data.uniform_(0, 0.05)\n",
        "        self.item_emb.weight.data.uniform_(0, 0.05)\n",
        "\n",
        "    def forward(self, u, v):\n",
        "        u = self.user_emb(u)\n",
        "        v = self.item_emb(v)\n",
        "        return F.sigmoid((u * v).sum(1)) * 4 + 1"
      ],
      "execution_count": 0,
      "outputs": []
    },
    {
      "cell_type": "code",
      "metadata": {
        "id": "T_LRAyBsorXI",
        "colab_type": "code",
        "colab": {}
      },
      "source": [
        "train_ds = CustomDataset(train[['visitorid', 'event', 'itemid']])\n",
        "train_dl = DataLoader(train_ds, batch_size=100000, shuffle=True)"
      ],
      "execution_count": 0,
      "outputs": []
    },
    {
      "cell_type": "code",
      "metadata": {
        "id": "qyjV1pdOo70M",
        "colab_type": "code",
        "outputId": "72b4b094-a0cc-45ca-e13a-11b2f75b9028",
        "colab": {
          "base_uri": "https://localhost:8080/",
          "height": 86
        }
      },
      "source": [
        "model = MF(num_users, num_items, emb_size).cuda()\n",
        "model"
      ],
      "execution_count": 0,
      "outputs": [
        {
          "output_type": "execute_result",
          "data": {
            "text/plain": [
              "MF(\n",
              "  (user_emb): Embedding(1407580, 50)\n",
              "  (item_emb): Embedding(235061, 50)\n",
              ")"
            ]
          },
          "metadata": {
            "tags": []
          },
          "execution_count": 103
        }
      ]
    },
    {
      "cell_type": "code",
      "metadata": {
        "id": "yIO8AKyUpTiI",
        "colab_type": "code",
        "colab": {}
      },
      "source": [
        "def test_loss(model, val):\n",
        "    model.eval()\n",
        "    preds = []\n",
        "    user = V(torch.LongTensor(val.visitorid.values)).cuda()\n",
        "    item = V(torch.LongTensor(val.itemid.values)).cuda()\n",
        "    event = V(torch.LongTensor(val.event.values)).float().cuda()\n",
        "    y_hat = model(user, item)\n",
        "    loss = F.mse_loss(y_hat, event)\n",
        "    #     print(\"Validation loss %.3f \" % loss.data[0])\n",
        "    #     return y_hat\n",
        "    return loss.data"
      ],
      "execution_count": 0,
      "outputs": []
    },
    {
      "cell_type": "code",
      "metadata": {
        "id": "TakP6MP5pXSZ",
        "colab_type": "code",
        "colab": {}
      },
      "source": [
        "def train_loop(model, train_dl, val, epochs, learning_rate, wd=0):\n",
        "    parameters = filter(lambda p: p.requires_grad, model.parameters())\n",
        "    optimiser = torch.optim.Adam(parameters, learning_rate, weight_decay=wd)\n",
        "    for i in range(epochs):\n",
        "        model.train()\n",
        "        for j, d in enumerate(train_dl):\n",
        "            mb_loss = []\n",
        "            user = V(d[0]).cuda()\n",
        "            item = V(d[1]).cuda()\n",
        "            event = V(d[2]).float().cuda()\n",
        "            y_hat = model(user, item)\n",
        "            loss = F.mse_loss(y_hat, event)\n",
        "            optimiser.zero_grad()\n",
        "            loss.backward()\n",
        "            mb_loss.append(loss.data)\n",
        "            optimiser.step()\n",
        "        print(f'Training loss for epoch {i} = {(mb_loss)}')\n",
        "        print(f'Validation loss for epoch {i} = {test_loss(model, val)}')"
      ],
      "execution_count": 0,
      "outputs": []
    },
    {
      "cell_type": "code",
      "metadata": {
        "id": "D8Ji-9YXpsTu",
        "colab_type": "code",
        "outputId": "6bfed4f9-3038-4ef2-de2f-b80b41391659",
        "colab": {
          "base_uri": "https://localhost:8080/",
          "height": 156
        }
      },
      "source": [
        "train_loop(model, train_dl, val[['visitorid', 'event', 'itemid']], 3, 0.05, wd=0.00001)"
      ],
      "execution_count": 0,
      "outputs": [
        {
          "output_type": "stream",
          "text": [
            "/usr/local/lib/python3.6/dist-packages/torch/nn/functional.py:1351: UserWarning: nn.functional.sigmoid is deprecated. Use torch.sigmoid instead.\n",
            "  warnings.warn(\"nn.functional.sigmoid is deprecated. Use torch.sigmoid instead.\")\n"
          ],
          "name": "stderr"
        },
        {
          "output_type": "stream",
          "text": [
            "Training loss for epoch 0 = [tensor(0.9080, device='cuda:0')]\n",
            "Validation loss for epoch 0 = 1.1786448955535889\n",
            "Training loss for epoch 1 = [tensor(0.9472, device='cuda:0')]\n",
            "Validation loss for epoch 1 = 1.1823498010635376\n",
            "Training loss for epoch 2 = [tensor(0.9044, device='cuda:0')]\n",
            "Validation loss for epoch 2 = 1.180809497833252\n"
          ],
          "name": "stdout"
        }
      ]
    },
    {
      "cell_type": "code",
      "metadata": {
        "id": "jYJskAOxp1JG",
        "colab_type": "code",
        "outputId": "53c88cdb-3c83-49f3-8c06-86e3ac989525",
        "colab": {
          "base_uri": "https://localhost:8080/",
          "height": 206
        }
      },
      "source": [
        "events_df.head()"
      ],
      "execution_count": 0,
      "outputs": [
        {
          "output_type": "execute_result",
          "data": {
            "text/html": [
              "<div>\n",
              "<style scoped>\n",
              "    .dataframe tbody tr th:only-of-type {\n",
              "        vertical-align: middle;\n",
              "    }\n",
              "\n",
              "    .dataframe tbody tr th {\n",
              "        vertical-align: top;\n",
              "    }\n",
              "\n",
              "    .dataframe thead th {\n",
              "        text-align: right;\n",
              "    }\n",
              "</style>\n",
              "<table border=\"1\" class=\"dataframe\">\n",
              "  <thead>\n",
              "    <tr style=\"text-align: right;\">\n",
              "      <th></th>\n",
              "      <th>timestamp</th>\n",
              "      <th>visitorid</th>\n",
              "      <th>event</th>\n",
              "      <th>itemid</th>\n",
              "      <th>transactionid</th>\n",
              "      <th>year</th>\n",
              "      <th>day</th>\n",
              "      <th>month</th>\n",
              "    </tr>\n",
              "  </thead>\n",
              "  <tbody>\n",
              "    <tr>\n",
              "      <th>1462974</th>\n",
              "      <td>2015-05-03 03:00:04</td>\n",
              "      <td>693516</td>\n",
              "      <td>0</td>\n",
              "      <td>297662</td>\n",
              "      <td>NaN</td>\n",
              "      <td>2015</td>\n",
              "      <td>3</td>\n",
              "      <td>5</td>\n",
              "    </tr>\n",
              "    <tr>\n",
              "      <th>1464806</th>\n",
              "      <td>2015-05-03 03:00:11</td>\n",
              "      <td>829044</td>\n",
              "      <td>2</td>\n",
              "      <td>60987</td>\n",
              "      <td>NaN</td>\n",
              "      <td>2015</td>\n",
              "      <td>3</td>\n",
              "      <td>5</td>\n",
              "    </tr>\n",
              "    <tr>\n",
              "      <th>1463000</th>\n",
              "      <td>2015-05-03 03:00:13</td>\n",
              "      <td>652699</td>\n",
              "      <td>2</td>\n",
              "      <td>252860</td>\n",
              "      <td>NaN</td>\n",
              "      <td>2015</td>\n",
              "      <td>3</td>\n",
              "      <td>5</td>\n",
              "    </tr>\n",
              "    <tr>\n",
              "      <th>1465287</th>\n",
              "      <td>2015-05-03 03:00:24</td>\n",
              "      <td>1125936</td>\n",
              "      <td>2</td>\n",
              "      <td>33661</td>\n",
              "      <td>NaN</td>\n",
              "      <td>2015</td>\n",
              "      <td>3</td>\n",
              "      <td>5</td>\n",
              "    </tr>\n",
              "    <tr>\n",
              "      <th>1462955</th>\n",
              "      <td>2015-05-03 03:00:26</td>\n",
              "      <td>693516</td>\n",
              "      <td>2</td>\n",
              "      <td>297662</td>\n",
              "      <td>NaN</td>\n",
              "      <td>2015</td>\n",
              "      <td>3</td>\n",
              "      <td>5</td>\n",
              "    </tr>\n",
              "  </tbody>\n",
              "</table>\n",
              "</div>"
            ],
            "text/plain": [
              "                  timestamp  visitorid  event  ...  year  day  month\n",
              "1462974 2015-05-03 03:00:04     693516      0  ...  2015    3      5\n",
              "1464806 2015-05-03 03:00:11     829044      2  ...  2015    3      5\n",
              "1463000 2015-05-03 03:00:13     652699      2  ...  2015    3      5\n",
              "1465287 2015-05-03 03:00:24    1125936      2  ...  2015    3      5\n",
              "1462955 2015-05-03 03:00:26     693516      2  ...  2015    3      5\n",
              "\n",
              "[5 rows x 8 columns]"
            ]
          },
          "metadata": {
            "tags": []
          },
          "execution_count": 121
        }
      ]
    },
    {
      "cell_type": "code",
      "metadata": {
        "id": "9eSznfcctKUw",
        "colab_type": "code",
        "colab": {}
      },
      "source": [
        "df = events_df#[]\n",
        "df = df.reindex(columns=['visitorid', 'itemid', 'event', 'timestamp'])"
      ],
      "execution_count": 0,
      "outputs": []
    },
    {
      "cell_type": "code",
      "metadata": {
        "id": "mmUSL-Tpt-Se",
        "colab_type": "code",
        "outputId": "ddb2f2bf-2d38-47df-f80b-0c1555857acb",
        "colab": {
          "base_uri": "https://localhost:8080/",
          "height": 206
        }
      },
      "source": [
        "df.head()"
      ],
      "execution_count": 8,
      "outputs": [
        {
          "output_type": "execute_result",
          "data": {
            "text/html": [
              "<div>\n",
              "<style scoped>\n",
              "    .dataframe tbody tr th:only-of-type {\n",
              "        vertical-align: middle;\n",
              "    }\n",
              "\n",
              "    .dataframe tbody tr th {\n",
              "        vertical-align: top;\n",
              "    }\n",
              "\n",
              "    .dataframe thead th {\n",
              "        text-align: right;\n",
              "    }\n",
              "</style>\n",
              "<table border=\"1\" class=\"dataframe\">\n",
              "  <thead>\n",
              "    <tr style=\"text-align: right;\">\n",
              "      <th></th>\n",
              "      <th>visitorid</th>\n",
              "      <th>itemid</th>\n",
              "      <th>event</th>\n",
              "      <th>timestamp</th>\n",
              "    </tr>\n",
              "  </thead>\n",
              "  <tbody>\n",
              "    <tr>\n",
              "      <th>0</th>\n",
              "      <td>257597</td>\n",
              "      <td>355908</td>\n",
              "      <td>2</td>\n",
              "      <td>2015-06-02 05:02:12</td>\n",
              "    </tr>\n",
              "    <tr>\n",
              "      <th>1</th>\n",
              "      <td>992329</td>\n",
              "      <td>248676</td>\n",
              "      <td>2</td>\n",
              "      <td>2015-06-02 05:50:14</td>\n",
              "    </tr>\n",
              "    <tr>\n",
              "      <th>2</th>\n",
              "      <td>111016</td>\n",
              "      <td>318965</td>\n",
              "      <td>2</td>\n",
              "      <td>2015-06-02 05:13:19</td>\n",
              "    </tr>\n",
              "    <tr>\n",
              "      <th>3</th>\n",
              "      <td>483717</td>\n",
              "      <td>253185</td>\n",
              "      <td>2</td>\n",
              "      <td>2015-06-02 05:12:35</td>\n",
              "    </tr>\n",
              "    <tr>\n",
              "      <th>4</th>\n",
              "      <td>951259</td>\n",
              "      <td>367447</td>\n",
              "      <td>2</td>\n",
              "      <td>2015-06-02 05:02:17</td>\n",
              "    </tr>\n",
              "  </tbody>\n",
              "</table>\n",
              "</div>"
            ],
            "text/plain": [
              "   visitorid  itemid  event           timestamp\n",
              "0     257597  355908      2 2015-06-02 05:02:12\n",
              "1     992329  248676      2 2015-06-02 05:50:14\n",
              "2     111016  318965      2 2015-06-02 05:13:19\n",
              "3     483717  253185      2 2015-06-02 05:12:35\n",
              "4     951259  367447      2 2015-06-02 05:02:17"
            ]
          },
          "metadata": {
            "tags": []
          },
          "execution_count": 8
        }
      ]
    },
    {
      "cell_type": "code",
      "metadata": {
        "id": "AG2xFv1D1i54",
        "colab_type": "code",
        "colab": {
          "base_uri": "https://localhost:8080/",
          "height": 34
        },
        "outputId": "857c82a1-bcda-46fc-a1b4-44f571343177"
      },
      "source": [
        "df.size\n",
        "df = df[:100000]\n",
        "df.size"
      ],
      "execution_count": 13,
      "outputs": [
        {
          "output_type": "execute_result",
          "data": {
            "text/plain": [
              "400000"
            ]
          },
          "metadata": {
            "tags": []
          },
          "execution_count": 13
        }
      ]
    },
    {
      "cell_type": "code",
      "metadata": {
        "id": "EJOpy_0bujDK",
        "colab_type": "code",
        "outputId": "f48fea3c-53f1-4855-a517-f88bb29d60c3",
        "colab": {
          "base_uri": "https://localhost:8080/",
          "height": 52
        }
      },
      "source": [
        "n_users = df.visitorid.unique().shape[0]\n",
        "n_items = df.itemid.unique().shape[0]\n",
        "print(str(n_users) + ' users')\n",
        "print(str(n_items) + ' items')"
      ],
      "execution_count": 14,
      "outputs": [
        {
          "output_type": "stream",
          "text": [
            "54913 users\n",
            "39559 items\n"
          ],
          "name": "stdout"
        }
      ]
    },
    {
      "cell_type": "code",
      "metadata": {
        "id": "nEm56bSguQ0L",
        "colab_type": "code",
        "colab": {
          "base_uri": "https://localhost:8080/",
          "height": 219
        },
        "outputId": "21c40b8f-bcf1-48b0-acf4-6b9aadc51859"
      },
      "source": [
        "ratings = np.zeros((n_users, n_items))\n",
        "for row in df.itertuples():\n",
        "    ratings[row[1]-1, row[2]-1] = row[3]\n",
        "ratings"
      ],
      "execution_count": 15,
      "outputs": [
        {
          "output_type": "error",
          "ename": "IndexError",
          "evalue": "ignored",
          "traceback": [
            "\u001b[0;31m---------------------------------------------------------------------------\u001b[0m",
            "\u001b[0;31mIndexError\u001b[0m                                Traceback (most recent call last)",
            "\u001b[0;32m<ipython-input-15-8be54bdd3369>\u001b[0m in \u001b[0;36m<module>\u001b[0;34m()\u001b[0m\n\u001b[1;32m      1\u001b[0m \u001b[0mratings\u001b[0m \u001b[0;34m=\u001b[0m \u001b[0mnp\u001b[0m\u001b[0;34m.\u001b[0m\u001b[0mzeros\u001b[0m\u001b[0;34m(\u001b[0m\u001b[0;34m(\u001b[0m\u001b[0mn_users\u001b[0m\u001b[0;34m,\u001b[0m \u001b[0mn_items\u001b[0m\u001b[0;34m)\u001b[0m\u001b[0;34m)\u001b[0m\u001b[0;34m\u001b[0m\u001b[0;34m\u001b[0m\u001b[0m\n\u001b[1;32m      2\u001b[0m \u001b[0;32mfor\u001b[0m \u001b[0mrow\u001b[0m \u001b[0;32min\u001b[0m \u001b[0mdf\u001b[0m\u001b[0;34m.\u001b[0m\u001b[0mitertuples\u001b[0m\u001b[0;34m(\u001b[0m\u001b[0;34m)\u001b[0m\u001b[0;34m:\u001b[0m\u001b[0;34m\u001b[0m\u001b[0;34m\u001b[0m\u001b[0m\n\u001b[0;32m----> 3\u001b[0;31m     \u001b[0mratings\u001b[0m\u001b[0;34m[\u001b[0m\u001b[0mrow\u001b[0m\u001b[0;34m[\u001b[0m\u001b[0;36m1\u001b[0m\u001b[0;34m]\u001b[0m\u001b[0;34m-\u001b[0m\u001b[0;36m1\u001b[0m\u001b[0;34m,\u001b[0m \u001b[0mrow\u001b[0m\u001b[0;34m[\u001b[0m\u001b[0;36m2\u001b[0m\u001b[0;34m]\u001b[0m\u001b[0;34m-\u001b[0m\u001b[0;36m1\u001b[0m\u001b[0;34m]\u001b[0m \u001b[0;34m=\u001b[0m \u001b[0mrow\u001b[0m\u001b[0;34m[\u001b[0m\u001b[0;36m3\u001b[0m\u001b[0;34m]\u001b[0m\u001b[0;34m\u001b[0m\u001b[0;34m\u001b[0m\u001b[0m\n\u001b[0m\u001b[1;32m      4\u001b[0m \u001b[0mratings\u001b[0m\u001b[0;34m\u001b[0m\u001b[0;34m\u001b[0m\u001b[0m\n",
            "\u001b[0;31mIndexError\u001b[0m: index 257596 is out of bounds for axis 0 with size 54913"
          ]
        }
      ]
    },
    {
      "cell_type": "code",
      "metadata": {
        "id": "CRMbyf8DugQL",
        "colab_type": "code",
        "colab": {}
      },
      "source": [
        "sparsity = float(len(ratings.nonzero()[0]))\n",
        "sparsity /= (ratings.shape[0] * ratings.shape[1])\n",
        "sparsity *= 100\n",
        "print('Sparsity = ',sparsity)"
      ],
      "execution_count": 0,
      "outputs": []
    },
    {
      "cell_type": "code",
      "metadata": {
        "id": "sVznP0cbvp7V",
        "colab_type": "code",
        "colab": {}
      },
      "source": [
        "def train_test_split(ratings):\n",
        "    test = np.zeros(ratings.shape)\n",
        "    train = ratings.copy()\n",
        "    for user in xrange(ratings.shape[0]):\n",
        "        test_ratings = np.random.choice(ratings[user, :].nonzero()[0], \n",
        "                                        size=10, \n",
        "                                        replace=False)\n",
        "        train[user, test_ratings] = 0.\n",
        "        test[user, test_ratings] = ratings[user, test_ratings]\n",
        "        \n",
        "    # Test and training are truly disjoint\n",
        "    assert(np.all((train * test) == 0)) \n",
        "    return train, test"
      ],
      "execution_count": 0,
      "outputs": []
    },
    {
      "cell_type": "code",
      "metadata": {
        "id": "XU-S93ej0GOk",
        "colab_type": "code",
        "colab": {}
      },
      "source": [
        "train, test = train_test_split(ratings)"
      ],
      "execution_count": 0,
      "outputs": []
    },
    {
      "cell_type": "code",
      "metadata": {
        "id": "nL0Mpi-w0HzD",
        "colab_type": "code",
        "colab": {}
      },
      "source": [
        "def similarity(ratings, kind='user', epsilon=1e-9):\n",
        "    # epsilon -> small number for handling dived-by-zero errors\n",
        "    if kind == 'user':\n",
        "        sim = ratings.dot(ratings.T) + epsilon\n",
        "    elif kind == 'item':\n",
        "        sim = ratings.T.dot(ratings) + epsilon\n",
        "    norms = np.array([np.sqrt(np.diagonal(sim))])\n",
        "    return (sim / norms / norms.T)"
      ],
      "execution_count": 0,
      "outputs": []
    },
    {
      "cell_type": "code",
      "metadata": {
        "id": "8VGRVvb_0MKI",
        "colab_type": "code",
        "colab": {}
      },
      "source": [
        "fast_similarity(train, kind='user')"
      ],
      "execution_count": 0,
      "outputs": []
    },
    {
      "cell_type": "code",
      "metadata": {
        "id": "yBJN1ijj0TH9",
        "colab_type": "code",
        "colab": {}
      },
      "source": [
        "def predict(ratings, similarity, kind='user'):\n",
        "    if kind == 'user':\n",
        "        return similarity.dot(ratings) / np.array([np.abs(similarity).sum(axis=1)]).T\n",
        "    elif kind == 'item':\n",
        "        return ratings.dot(similarity) / np.array([np.abs(similarity).sum(axis=1)])"
      ],
      "execution_count": 0,
      "outputs": []
    }
  ]
}